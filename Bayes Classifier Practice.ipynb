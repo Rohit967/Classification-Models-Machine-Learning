{
 "cells": [
  {
   "cell_type": "markdown",
   "metadata": {},
   "source": [
    "## Bayes Classifier Practice"
   ]
  },
  {
   "cell_type": "code",
   "execution_count": 3,
   "metadata": {},
   "outputs": [],
   "source": [
    "import numpy as np"
   ]
  },
  {
   "cell_type": "code",
   "execution_count": 30,
   "metadata": {
    "collapsed": true
   },
   "outputs": [],
   "source": [
    "# prior probability\n",
    "P1 = 0.33\n",
    "P2 = 0.67"
   ]
  },
  {
   "cell_type": "code",
   "execution_count": 31,
   "metadata": {
    "collapsed": true
   },
   "outputs": [],
   "source": [
    "# mean\n",
    "mu1 = np.array([5.01,3.42])\n",
    "mu2 = np.array([6.26,2.87])"
   ]
  },
  {
   "cell_type": "code",
   "execution_count": 32,
   "metadata": {
    "collapsed": true
   },
   "outputs": [],
   "source": [
    "# covariance matrix\n",
    "cov1 = np.array([0.122,0.098,0.098,0.142]).reshape(2,2)\n",
    "cov2 = np.array([0.435,0.121,0.121,0.110]).reshape(2,2)"
   ]
  },
  {
   "cell_type": "code",
   "execution_count": 33,
   "metadata": {
    "collapsed": true
   },
   "outputs": [],
   "source": [
    "# new data point\n",
    "x = np.array([6.75,4.25])"
   ]
  },
  {
   "cell_type": "code",
   "execution_count": 34,
   "metadata": {
    "collapsed": true
   },
   "outputs": [],
   "source": [
    "# likelihood\n",
    "# fx for class 1\n",
    "fx11 = 1/(np.sqrt(2*np.pi)**2*np.sqrt(np.linalg.det(cov1)))  \n",
    "\n",
    "fexp11 = np.matmul((x-mu1).T,np.linalg.inv(cov1))\n",
    "fexp12 = np.matmul(fexp11,x-mu1)\n",
    "fx12 = np.exp(-fexp12/2)\n",
    "\n",
    "fx1 = fx11*fx12"
   ]
  },
  {
   "cell_type": "code",
   "execution_count": 35,
   "metadata": {
    "collapsed": true
   },
   "outputs": [],
   "source": [
    "# likelihood\n",
    "# fx for class 2\n",
    "fx21 = 1/(np.sqrt(2*np.pi)**2*np.sqrt(np.linalg.det(cov2)))  \n",
    "\n",
    "fexp21 = np.matmul((x-mu2).T,np.linalg.inv(cov2))\n",
    "fexp22 = np.matmul(fexp21,x-mu2)\n",
    "fx22 = np.exp(-fexp22/2)\n",
    "\n",
    "fx2 = fx21*fx22"
   ]
  },
  {
   "cell_type": "code",
   "execution_count": 36,
   "metadata": {
    "collapsed": true
   },
   "outputs": [],
   "source": [
    "# probability of observing x from any of the k classes,\n",
    "p = fx1*P1 + fx2*P2"
   ]
  },
  {
   "cell_type": "code",
   "execution_count": 37,
   "metadata": {},
   "outputs": [
    {
     "name": "stdout",
     "output_type": "stream",
     "text": [
      "P(y=1|x) = 0.01\n",
      "P(y=2|x) = 0.99\n"
     ]
    }
   ],
   "source": [
    "#  posterior probability\n",
    "p1x = fx1*P1/p\n",
    "p2x = fx2*P2/p\n",
    "\n",
    "print(\"P(y=1|x) = {0:.2f}\".format(p1x))\n",
    "print(\"P(y=2|x) = {0:.2f}\".format(p2x))"
   ]
  },
  {
   "cell_type": "code",
   "execution_count": null,
   "metadata": {
    "collapsed": true
   },
   "outputs": [],
   "source": []
  },
  {
   "cell_type": "code",
   "execution_count": 29,
   "metadata": {},
   "outputs": [
    {
     "data": {
      "text/plain": [
       "array([[ 1, 23, 45],\n",
       "       [34, 34, 56],\n",
       "       [34, 12,  8],\n",
       "       [ 7, 10,  4]])"
      ]
     },
     "execution_count": 29,
     "metadata": {},
     "output_type": "execute_result"
    }
   ],
   "source": [
    "A = np.array([1,23,45,34,34,56,34,12,8,7,10,4]).reshape(4,3)\n",
    "A"
   ]
  },
  {
   "cell_type": "markdown",
   "metadata": {},
   "source": [
    "$$ \n",
    "cov(X,Y) = \\sum_{n=i}^N\\frac{(x_i - \\bar{x})(y_i - \\bar{y})}{N}\n",
    "$$"
   ]
  },
  {
   "cell_type": "code",
   "execution_count": 27,
   "metadata": {},
   "outputs": [
    {
     "name": "stdout",
     "output_type": "stream",
     "text": [
      "[[306.          52.          34.        ]\n",
      " [ 52.         122.91666667 281.08333333]\n",
      " [ 34.         281.08333333 682.91666667]]\n"
     ]
    }
   ],
   "source": [
    "covA = np.cov(A.T)\n",
    "print(covA)"
   ]
  },
  {
   "cell_type": "code",
   "execution_count": 28,
   "metadata": {},
   "outputs": [
    {
     "name": "stdout",
     "output_type": "stream",
     "text": [
      "[19.   19.75 28.25]\n"
     ]
    }
   ],
   "source": [
    "mu = np.mean(A.T,1)\n",
    "print(mu)"
   ]
  },
  {
   "cell_type": "code",
   "execution_count": null,
   "metadata": {
    "collapsed": true
   },
   "outputs": [],
   "source": []
  }
 ],
 "metadata": {
  "kernelspec": {
   "display_name": "Python 3",
   "language": "python",
   "name": "python3"
  },
  "language_info": {
   "codemirror_mode": {
    "name": "ipython",
    "version": 3
   },
   "file_extension": ".py",
   "mimetype": "text/x-python",
   "name": "python",
   "nbconvert_exporter": "python",
   "pygments_lexer": "ipython3",
   "version": "3.7.4"
  }
 },
 "nbformat": 4,
 "nbformat_minor": 2
}
